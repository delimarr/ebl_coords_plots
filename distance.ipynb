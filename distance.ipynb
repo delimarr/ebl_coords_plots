{
 "cells": [
  {
   "cell_type": "code",
   "execution_count": 1,
   "metadata": {},
   "outputs": [],
   "source": [
    "import pandas as pd\n",
    "import numpy as np\n",
    "\n",
    "from typing import Dict, Any\n",
    "\n",
    "from src.tvData import get_df, get_nn_mask, median_filter, get_dist"
   ]
  },
  {
   "cell_type": "code",
   "execution_count": 2,
   "metadata": {},
   "outputs": [],
   "source": [
    "TRUE_DIST = 57.4"
   ]
  },
  {
   "cell_type": "code",
   "execution_count": 3,
   "metadata": {},
   "outputs": [],
   "source": [
    "df = get_df([\"02_dab\"], \"./data/run8/\")\n",
    "coords = df[[\"x\", \"y\", \"z\"]].to_numpy()"
   ]
  },
  {
   "cell_type": "code",
   "execution_count": 4,
   "metadata": {},
   "outputs": [
    {
     "name": "stdout",
     "output_type": "stream",
     "text": [
      "no post_processing, diff:\t 462.9001598902963\n"
     ]
    }
   ],
   "source": [
    "no_filter = get_dist(coords=coords, min_step=0)\n",
    "print(\"no post_processing, diff:\\t\", abs(no_filter.sum() - TRUE_DIST))"
   ]
  },
  {
   "cell_type": "code",
   "execution_count": 5,
   "metadata": {},
   "outputs": [
    {
     "name": "stdout",
     "output_type": "stream",
     "text": [
      "{'nn': 90, 'kernel_size': 29, 'step': 9, 'diff': 0.0002143177617668357}\n"
     ]
    }
   ],
   "source": [
    "best_params: Dict[str, Any] = {}\n",
    "\n",
    "min_d = 10\n",
    "for nn in range(10, 100, 5):\n",
    "    for step in range(0, 40, 3):\n",
    "        for kernel_size in range(3, 30, 2):\n",
    "            nn_coords = coords[1: -1][get_nn_mask(df, threshold=nn)]\n",
    "            med_coords = median_filter(nn_coords, kernel_size=kernel_size)\n",
    "            dist_arr = get_dist(med_coords, min_step=step)\n",
    "            dist = dist_arr.sum()\n",
    "            diff = abs(dist - TRUE_DIST)\n",
    "            if diff < min_d:\n",
    "                min_d = diff\n",
    "                best_params = {\n",
    "                    \"nn\" : nn,\n",
    "                    \"kernel_size\" : kernel_size,\n",
    "                    \"step\" : step,\n",
    "                    \"diff\" : diff\n",
    "                }\n",
    "\n",
    "print(best_params)"
   ]
  },
  {
   "cell_type": "code",
   "execution_count": 6,
   "metadata": {},
   "outputs": [
    {
     "name": "stdout",
     "output_type": "stream",
     "text": [
      "0.3235614520366923\n"
     ]
    }
   ],
   "source": [
    "nn_coords = coords[1: -1][get_nn_mask(df, threshold=90)]\n",
    "med_coords = median_filter(nn_coords, kernel_size=11)\n",
    "dist_arr = get_dist(med_coords, min_step=15)\n",
    "dist = dist_arr.sum()\n",
    "diff = abs(dist - TRUE_DIST)\n",
    "print(diff)"
   ]
  },
  {
   "cell_type": "code",
   "execution_count": 7,
   "metadata": {},
   "outputs": [
    {
     "name": "stdout",
     "output_type": "stream",
     "text": [
      "{'nn': 30, 'kernel_size': 5, 'step': 9, 'diff': 0.0028177597150218503}\n"
     ]
    }
   ],
   "source": [
    "coords_z = df[[\"x\", \"y\"]]\n",
    "best_params_without_z: Dict[str, Any] = {}\n",
    "\n",
    "min_d = 10\n",
    "for nn in range(10, 120, 5):\n",
    "    for step in range(0, 40, 3):\n",
    "        for kernel_size in range(3, 30, 2):\n",
    "            nn_coords = coords_z[1: -1][get_nn_mask(df, threshold=nn)]\n",
    "            med_coords = median_filter(nn_coords, kernel_size=kernel_size)\n",
    "            dist_arr = get_dist(med_coords, min_step=step)\n",
    "            dist = dist_arr.sum()\n",
    "            diff = abs(dist - TRUE_DIST)\n",
    "            if diff < min_d:\n",
    "                min_d = diff\n",
    "                best_params_without_z = {\n",
    "                    \"nn\" : nn,\n",
    "                    \"kernel_size\" : kernel_size,\n",
    "                    \"step\" : step,\n",
    "                    \"diff\" : diff\n",
    "                }\n",
    "\n",
    "print(best_params_without_z)"
   ]
  }
 ],
 "metadata": {
  "kernelspec": {
   "display_name": "ip6",
   "language": "python",
   "name": "python3"
  },
  "language_info": {
   "codemirror_mode": {
    "name": "ipython",
    "version": 3
   },
   "file_extension": ".py",
   "mimetype": "text/x-python",
   "name": "python",
   "nbconvert_exporter": "python",
   "pygments_lexer": "ipython3",
   "version": "3.9.13"
  }
 },
 "nbformat": 4,
 "nbformat_minor": 2
}
