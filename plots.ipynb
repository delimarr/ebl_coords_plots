{
 "cells": [
  {
   "cell_type": "markdown",
   "metadata": {},
   "source": [
    "# Notebook, used to generate 3D plots and export them to html."
   ]
  },
  {
   "cell_type": "code",
   "execution_count": 1,
   "metadata": {},
   "outputs": [],
   "source": [
    "import pandas as pd\n",
    "import numpy as np\n",
    "import pyvista as pv\n",
    "\n",
    "from os import listdir\n",
    "from os.path import join\n",
    "\n",
    "from src.tvData import get_df, get_cloud, get_nn_mask, mark_valid_signal, median_filter, get_dist\n",
    "from src.constants import NN_THRESHOLD, FILES_S4, GOOD_FILES_S4"
   ]
  },
  {
   "cell_type": "code",
   "execution_count": 2,
   "metadata": {},
   "outputs": [],
   "source": [
    "DATA_FOLDER = \"./data/\"\n",
    "CMAP_2 = [\"red\", \"yellow\"]\n",
    "CMAP_4 = [\"red\", \"yellow\", \"blue\", \"green\"]"
   ]
  },
  {
   "cell_type": "code",
   "execution_count": 34,
   "metadata": {},
   "outputs": [],
   "source": [
    "def get_plotter(title: str, notebook_flg: bool = True) -> pv.Plotter:\n",
    "    \"\"\"Create Plotter object with title.\n",
    "\n",
    "    Args:\n",
    "        title (str): title\n",
    "        notebook_flg (bool): if in notebook. Defaults to True.\n",
    "\n",
    "    Returns:\n",
    "        pv.Plotter: pv plotter object\n",
    "    \"\"\"\n",
    "    pl = pv.Plotter(notebook=notebook_flg)\n",
    "    pl.add_title(title)\n",
    "    pl.enable_eye_dome_lighting()\n",
    "    pl.show_grid()\n",
    "    pl.show_axes()\n",
    "    return pl\n"
   ]
  },
  {
   "cell_type": "code",
   "execution_count": 15,
   "metadata": {},
   "outputs": [
    {
     "data": {
      "application/vnd.jupyter.widget-view+json": {
       "model_id": "4883b45708c0419bbc1f7a3f25bcefbe",
       "version_major": 2,
       "version_minor": 0
      },
      "text/plain": [
       "Widget(value=\"<iframe src='http://localhost:56039/index.html?ui=P_0x21190d7a760_15&reconnect=auto' style='widt…"
      ]
     },
     "metadata": {},
     "output_type": "display_data"
    }
   ],
   "source": [
    "html_file_s4 = \"htmls_dump/gr_singstrecke_s4_14_files.html\"\n",
    "\n",
    "df_s4 = get_df(FILES_S4, join(DATA_FOLDER, \"gr_ringstrecke_s4/\"))\n",
    "cloud_s4 = get_cloud(df_s4)\n",
    "pl_s4 = get_plotter(\"Grosse Ringstrecke s4\")\n",
    "pl_s4.add_points(\n",
    "    cloud_s4,\n",
    "    color=\"blue\",\n",
    "    render_points_as_spheres=True\n",
    ")\n",
    "pl_s4.export_html(html_file_s4)\n",
    "pl_s4.show()\n"
   ]
  },
  {
   "cell_type": "code",
   "execution_count": 16,
   "metadata": {},
   "outputs": [
    {
     "data": {
      "application/vnd.jupyter.widget-view+json": {
       "model_id": "1bed5719e1934ef288d9789f32887056",
       "version_major": 2,
       "version_minor": 0
      },
      "text/plain": [
       "Widget(value=\"<iframe src='http://localhost:56039/index.html?ui=P_0x211eb5cb430_16&reconnect=auto' style='widt…"
      ]
     },
     "metadata": {},
     "output_type": "display_data"
    }
   ],
   "source": [
    "html_file_good_s4 = \"htmls_dump/gr_singstrecke_s4_good_3_files.html\"\n",
    "\n",
    "df_good_s4 = get_df(GOOD_FILES_S4, join(DATA_FOLDER, \"gr_ringstrecke_s4/\"))\n",
    "cloud_good_s4 = get_cloud(df_good_s4)\n",
    "pl_s4_good = get_plotter(\"Grosse Ringstrecke s4\")\n",
    "pl_s4_good.add_points(\n",
    "    cloud_good_s4,\n",
    "    color=\"blue\",\n",
    "    render_points_as_spheres=True\n",
    ")\n",
    "pl_s4_good.export_html(html_file_good_s4)\n",
    "pl_s4_good.show()"
   ]
  },
  {
   "cell_type": "code",
   "execution_count": 17,
   "metadata": {},
   "outputs": [
    {
     "data": {
      "application/vnd.jupyter.widget-view+json": {
       "model_id": "ff52321d72db45c6835977c3c183595c",
       "version_major": 2,
       "version_minor": 0
      },
      "text/plain": [
       "Widget(value=\"<iframe src='http://localhost:56039/index.html?ui=P_0x2119111cac0_17&reconnect=auto' style='widt…"
      ]
     },
     "metadata": {},
     "output_type": "display_data"
    }
   ],
   "source": [
    "nn_threshold = 50\n",
    "html_file_nn_s4_colored = f\"htmls_dump/gr_singstrecke_s4_14_files_nn_{nn_threshold}_colored.html\"\n",
    "nn_mask_s4 = get_nn_mask(df_s4, nn_threshold)\n",
    "cloud_s4_nn_colored = get_cloud(df_s4.iloc[1:-1])\n",
    "cloud_s4_nn_colored[\"color_mask\"] = nn_mask_s4\n",
    "pl_s4_nn_colored = get_plotter(f\"S4, NN {nn_threshold} Masked, yellow is valid, red is invalid\")\n",
    "pl_s4_nn_colored.add_points(\n",
    "    cloud_s4_nn_colored,\n",
    "    cmap=CMAP_2,\n",
    "    scalars=\"color_mask\"\n",
    ")\n",
    "pl_s4_nn_colored.export_html(html_file_nn_s4_colored)\n",
    "pl_s4_nn_colored.show()\n"
   ]
  },
  {
   "cell_type": "code",
   "execution_count": 18,
   "metadata": {},
   "outputs": [
    {
     "data": {
      "application/vnd.jupyter.widget-view+json": {
       "model_id": "c5e2f960b328461692054988676f1a57",
       "version_major": 2,
       "version_minor": 0
      },
      "text/plain": [
       "Widget(value=\"<iframe src='http://localhost:56039/index.html?ui=P_0x211925dddc0_18&reconnect=auto' style='widt…"
      ]
     },
     "metadata": {},
     "output_type": "display_data"
    }
   ],
   "source": [
    "html_file_nn_s4 = f\"htmls_dump/gr_singstrecke_s4_14_files_nn_{nn_threshold}.html\"\n",
    "df_nn = df_s4.iloc[1:-1].loc[nn_mask_s4]\n",
    "cloud_s4_nn = get_cloud(df_nn)\n",
    "pl_s4_nn = get_plotter(f\"S4, NN {nn_threshold} Masked\")\n",
    "pl_s4_nn.add_points(\n",
    "    cloud_s4_nn,\n",
    "    color=\"blue\"\n",
    ")\n",
    "pl_s4_nn.export_html(html_file_nn_s4)\n",
    "pl_s4_nn.show()"
   ]
  },
  {
   "cell_type": "code",
   "execution_count": 19,
   "metadata": {},
   "outputs": [
    {
     "data": {
      "application/vnd.jupyter.widget-view+json": {
       "model_id": "57395608af41490883313ef65e4f2e31",
       "version_major": 2,
       "version_minor": 0
      },
      "text/plain": [
       "Widget(value=\"<iframe src='http://localhost:56039/index.html?ui=P_0x21191a0acd0_19&reconnect=auto' style='widt…"
      ]
     },
     "metadata": {},
     "output_type": "display_data"
    }
   ],
   "source": [
    "html_file_run2 = \"htmls_dump/run2_master_blo.html\"\n",
    "folder_run2 = join(DATA_FOLDER, \"run2/\")\n",
    "df_run2 = get_df(listdir(folder_run2), folder_run2)\n",
    "cloud_run2 = get_cloud(df_run2)\n",
    "pl_run2 = get_plotter(\"Run 2, Dachsburgring, Master in BLO\")\n",
    "pl_run2.add_points(\n",
    "    cloud_run2,\n",
    "    color=\"blue\",\n",
    "    render_points_as_spheres=True\n",
    ")\n",
    "pl_run2.export_html(html_file_run2)\n",
    "pl_run2.show()"
   ]
  },
  {
   "cell_type": "code",
   "execution_count": 20,
   "metadata": {},
   "outputs": [
    {
     "data": {
      "application/vnd.jupyter.widget-view+json": {
       "model_id": "7e4dc4d807534e80b628704a66e87848",
       "version_major": 2,
       "version_minor": 0
      },
      "text/plain": [
       "Widget(value=\"<iframe src='http://localhost:56039/index.html?ui=P_0x21190788400_20&reconnect=auto' style='widt…"
      ]
     },
     "metadata": {},
     "output_type": "display_data"
    }
   ],
   "source": [
    "html_file_run8 = \"htmls_dump/run8_master_ger.html\"\n",
    "\n",
    "folder_run8 = join(DATA_FOLDER, \"run8/\")\n",
    "df_run8 = get_df(listdir(folder_run8), folder_run8)\n",
    "cloud_run8 = get_cloud(df_run8)\n",
    "pl_run8 = get_plotter(\"Run 8, Dachsburgring, Master in BLO\")\n",
    "pl_run8.add_points(\n",
    "    cloud_run8,\n",
    "    color=\"blue\"\n",
    ")\n",
    "pl_run8.export_html(html_file_run8)\n",
    "pl_run8.show()"
   ]
  },
  {
   "cell_type": "code",
   "execution_count": 21,
   "metadata": {},
   "outputs": [],
   "source": [
    "df_recv, recv_flg = mark_valid_signal(\n",
    "    get_df(FILES_S4, join(DATA_FOLDER, \"gr_ringstrecke_s4/\")),\n",
    "    min_distance=3000,\n",
    "    max_distance=12000\n",
    ")\n",
    "cloud_recv = get_cloud(df_recv)\n",
    "for i in range(recv_flg.shape[1]):\n",
    "    cloud_recv[\"color_mask\"] = recv_flg[:, i]\n",
    "    pl = get_plotter(f\"Receiver Nr. {i}\")\n",
    "    pl.add_points(\n",
    "        cloud_recv,\n",
    "        cmap=CMAP_2,\n",
    "        scalars=\"color_mask\"\n",
    "    )\n",
    "    pl.export_html(f\"htmls_dump/recv_colored/gr_ringstrecke_s4_recv_{i}.html\")\n",
    "cloud_recv[\"color_mask\"] = df_recv[\"got_signal_flg\"]\n",
    "pl_recv = get_plotter(f\"Receiver Nr. {i}\")\n",
    "pl_recv.add_points(\n",
    "    cloud_recv,\n",
    "    cmap=CMAP_2,\n",
    "    scalars=\"color_mask\"\n",
    ")\n",
    "pl_recv.export_html(f\"htmls_dump/gr_ringstrecke_s4_satelliten_abdeckung.html\")"
   ]
  },
  {
   "cell_type": "code",
   "execution_count": 22,
   "metadata": {},
   "outputs": [
    {
     "name": "stderr",
     "output_type": "stream",
     "text": [
      "c:\\Users\\Habbasch\\envs\\ip6\\lib\\site-packages\\pyvista\\core\\utilities\\points.py:52: UserWarning: Points is not a float type. This can cause issues when transforming or applying filters. Casting to ``np.float32``. Disable this by passing ``force_float=False``.\n",
      "  warnings.warn(\n"
     ]
    },
    {
     "data": {
      "application/vnd.jupyter.widget-view+json": {
       "model_id": "281cef494af946888097d865b522464e",
       "version_major": 2,
       "version_minor": 0
      },
      "text/plain": [
       "Widget(value=\"<iframe src='http://localhost:56039/index.html?ui=P_0x2119162f730_36&reconnect=auto' style='widt…"
      ]
     },
     "metadata": {},
     "output_type": "display_data"
    }
   ],
   "source": [
    "kernel_size = 29\n",
    "html_file_med_s4 = f\"htmls_dump/med_filter_k{kernel_size}.html\"\n",
    "coords = np.c_[df_nn.x, df_nn.y, df_nn.z]\n",
    "\n",
    "cloud_med_s4 = pv.PolyData(median_filter(coords, kernel_size=kernel_size))\n",
    "pl_s4 = get_plotter(f\"Medianfilter Kernelgrösse: {kernel_size}\")\n",
    "pl_s4.add_points(\n",
    "    cloud_med_s4,\n",
    "    color=\"blue\",\n",
    "    render_points_as_spheres=True\n",
    ")\n",
    "pl_s4.export_html(html_file_med_s4)\n",
    "pl_s4.show()"
   ]
  },
  {
   "cell_type": "code",
   "execution_count": 33,
   "metadata": {},
   "outputs": [
    {
     "name": "stderr",
     "output_type": "stream",
     "text": [
      "c:\\Users\\robin\\envs\\ip6\\lib\\site-packages\\pyvista\\core\\utilities\\points.py:52: UserWarning: Points is not a float type. This can cause issues when transforming or applying filters. Casting to ``np.float32``. Disable this by passing ``force_float=False``.\n",
      "  warnings.warn(\n"
     ]
    }
   ],
   "source": [
    "nn_threshold = 50\n",
    "kernel_size = 13\n",
    "# Verteidigung Plot\n",
    "df_recv, recv_flg = mark_valid_signal(\n",
    "    get_df(FILES_S4, join(DATA_FOLDER, \"gr_ringstrecke_s4/\")),\n",
    "    min_distance=3000,\n",
    "    max_distance=12000\n",
    ")\n",
    "\n",
    "nn_mask_ver = get_nn_mask(df_recv, nn_threshold)\n",
    "df_nn = df_recv[1:-1][nn_mask_ver]\n",
    "coords = np.c_[df_nn.x, df_nn.y, df_nn.z]\n",
    "cloud_med_ver = pv.PolyData(median_filter(coords, kernel_size=kernel_size))\n",
    "\n",
    "# all points\n",
    "pl = get_plotter(\"Grosse Ringstrecke\")\n",
    "pl.add_points(\n",
    "    get_cloud(df_recv),\n",
    "    color=\"blue\",\n",
    "    render_points_as_spheres=True\n",
    ")\n",
    "pl.export_html(\"./verteidigung/all_points_grosse_ringstrecke.html\")\n",
    "\n",
    "# nn masked\n",
    "pl_nn = get_plotter(f\"Grosse Ringstrecke: Nächster Nachbar Filter {nn_threshold}\")\n",
    "pl_nn.add_points(\n",
    "    get_cloud(df_nn),\n",
    "    color=\"blue\",\n",
    "    render_points_as_spheres=True\n",
    ")\n",
    "pl_nn.export_html(\"./verteidigung/nn_grosse_ringstrecke.html\")\n",
    "\n",
    "# med filter\n",
    "pl_med = get_plotter(f\"Grosse Ringstrecke: Median Filter {kernel_size}\")\n",
    "pl_med.add_points(\n",
    "    cloud_med_ver,\n",
    "    color=\"blue\",\n",
    "    render_points_as_spheres=True\n",
    ")\n",
    "pl_med.export_html(\"./verteidigung/med_grosse_ringstrecke.html\")"
   ]
  },
  {
   "cell_type": "code",
   "execution_count": 39,
   "metadata": {
    "slideshow": {
     "slide_type": "slide"
    }
   },
   "outputs": [],
   "source": [
    "df_recv, recv_flg = mark_valid_signal(\n",
    "    get_df(FILES_S4, join(DATA_FOLDER, \"gr_ringstrecke_s4/\")),\n",
    "    min_distance=3000,\n",
    "    max_distance=12000\n",
    ")\n",
    "nn_mask = get_nn_mask(df_recv, 50)\n",
    "df_recv = df_recv[1: -1]\n",
    "got_signal_flg = df_recv.got_signal_flg.to_numpy()\n",
    "\n",
    "color_mask = np.zeros(nn_mask.shape, dtype=np.uint8)\n",
    "color_mask[nn_mask & got_signal_flg] = 1\n",
    "color_mask[nn_mask & (~got_signal_flg)] = 2\n",
    "color_mask[(~nn_mask) & got_signal_flg] = 3\n",
    "\n",
    "df_recv.insert(df_recv.shape[1], \"color_mask\", color_mask)\n",
    "pl_color = get_plotter(\"Messfehler vs GoT\")\n",
    "cloud_color = get_cloud(df_recv)\n",
    "cloud_color[\"color_mask\"] = color_mask\n",
    "\n",
    "pl_color.add_points(\n",
    "    get_cloud(df_recv[nn_mask & got_signal_flg]),\n",
    "    color=\"black\",\n",
    "    label=\"Guter Punkt und starkes Signal\",\n",
    "    render_points_as_spheres=True\n",
    ")\n",
    "pl_color.add_points(\n",
    "    get_cloud(df_recv[(~nn_mask) & (~got_signal_flg)]),\n",
    "    color=\"red\",\n",
    "    label=\"Schlechter Punkt und schwaches Signal\",\n",
    "    render_points_as_spheres=True\n",
    ")\n",
    "pl_color.add_points(\n",
    "    get_cloud(df_recv[nn_mask & (~got_signal_flg)]),\n",
    "    color=\"blue\",\n",
    "    label=\"Guter Punkt und schwaches Signal\",\n",
    "    render_points_as_spheres=True\n",
    ")\n",
    "\n",
    "pl_color.add_points(\n",
    "    get_cloud(df_recv[(~nn_mask) & got_signal_flg]),\n",
    "    color=\"orange\",\n",
    "    label=\"Schlechter Punkt und starkes Signal\",\n",
    "    render_points_as_spheres=True\n",
    ")\n",
    "\n",
    "pl_color.add_legend()\n",
    "pl_color.show() "
   ]
  }
 ],
 "metadata": {
  "kernelspec": {
   "display_name": "ip6",
   "language": "python",
   "name": "python3"
  },
  "language_info": {
   "codemirror_mode": {
    "name": "ipython",
    "version": 3
   },
   "file_extension": ".py",
   "mimetype": "text/x-python",
   "name": "python",
   "nbconvert_exporter": "python",
   "pygments_lexer": "ipython3",
   "version": "3.9.13"
  }
 },
 "nbformat": 4,
 "nbformat_minor": 2
}
