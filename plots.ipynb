{
 "cells": [
  {
   "cell_type": "markdown",
   "metadata": {},
   "source": [
    "# Notebook, used to generate 3D plots and export them to html."
   ]
  },
  {
   "cell_type": "code",
   "execution_count": 7,
   "metadata": {},
   "outputs": [],
   "source": [
    "import pandas as pd\n",
    "import numpy as np\n",
    "import pyvista as pv\n",
    "\n",
    "from os import listdir\n",
    "from os.path import join\n",
    "\n",
    "from src.tvData import get_df, get_cloud, get_nn_mask, mark_valid_signal, median_filter\n",
    "from src.constants import NN_THRESHOLD, FILES_S4, GOOD_FILES_S4"
   ]
  },
  {
   "cell_type": "code",
   "execution_count": 8,
   "metadata": {},
   "outputs": [],
   "source": [
    "DATA_FOLDER = \"./data/\"\n",
    "CMAP_2 = [\"red\", \"yellow\"]"
   ]
  },
  {
   "cell_type": "code",
   "execution_count": 9,
   "metadata": {},
   "outputs": [],
   "source": [
    "def get_plotter(title: str) -> pv.Plotter:\n",
    "    \"\"\"Create Plotter object with title.\n",
    "\n",
    "    Args:\n",
    "        title (str): title\n",
    "\n",
    "    Returns:\n",
    "        pv.Plotter: pv plotter object\n",
    "    \"\"\"\n",
    "    pl = pv.Plotter(notebook=True)\n",
    "    pl.add_title(title)\n",
    "    pl.enable_eye_dome_lighting()\n",
    "    pl.show_grid()\n",
    "    pl.show_axes()\n",
    "    return pl\n"
   ]
  },
  {
   "cell_type": "code",
   "execution_count": 10,
   "metadata": {},
   "outputs": [
    {
     "data": {
      "application/vnd.jupyter.widget-view+json": {
       "model_id": "717c629edd6b4b43a7531e9bd48ea10c",
       "version_major": 2,
       "version_minor": 0
      },
      "text/plain": [
       "Widget(value=\"<iframe src='http://localhost:56229/index.html?ui=P_0x2958bf15970_15&reconnect=auto' style='widt…"
      ]
     },
     "metadata": {},
     "output_type": "display_data"
    }
   ],
   "source": [
    "html_file_s4 = \"htmls_dump/gr_singstrecke_s4_14_files.html\"\n",
    "\n",
    "df_s4 = get_df(FILES_S4, join(DATA_FOLDER, \"gr_ringstrecke_s4/\"))\n",
    "cloud_s4 = get_cloud(df_s4)\n",
    "pl_s4 = get_plotter(\"Grosse Ringstrecke s4\")\n",
    "pl_s4.add_points(\n",
    "    cloud_s4,\n",
    "    color=\"blue\",\n",
    "    render_points_as_spheres=True\n",
    ")\n",
    "pl_s4.export_html(html_file_s4)\n",
    "pl_s4.show()\n"
   ]
  },
  {
   "cell_type": "code",
   "execution_count": 11,
   "metadata": {},
   "outputs": [
    {
     "data": {
      "application/vnd.jupyter.widget-view+json": {
       "model_id": "778073a47d6347ba804c5b93c7539634",
       "version_major": 2,
       "version_minor": 0
      },
      "text/plain": [
       "Widget(value=\"<iframe src='http://localhost:56229/index.html?ui=P_0x2958bd304c0_16&reconnect=auto' style='widt…"
      ]
     },
     "metadata": {},
     "output_type": "display_data"
    }
   ],
   "source": [
    "html_file_good_s4 = \"htmls_dump/gr_singstrecke_s4_good_3_files.html\"\n",
    "\n",
    "df_good_s4 = get_df(GOOD_FILES_S4, join(DATA_FOLDER, \"gr_ringstrecke_s4/\"))\n",
    "cloud_good_s4 = get_cloud(df_good_s4)\n",
    "pl_s4_good = get_plotter(\"Grosse Ringstrecke s4\")\n",
    "pl_s4_good.add_points(\n",
    "    cloud_good_s4,\n",
    "    color=\"blue\",\n",
    "    render_points_as_spheres=True\n",
    ")\n",
    "pl_s4_good.export_html(html_file_good_s4)\n",
    "pl_s4_good.show()"
   ]
  },
  {
   "cell_type": "code",
   "execution_count": 20,
   "metadata": {},
   "outputs": [
    {
     "data": {
      "application/vnd.jupyter.widget-view+json": {
       "model_id": "4cdebeba81d4450d95ddfc618849537a",
       "version_major": 2,
       "version_minor": 0
      },
      "text/plain": [
       "Widget(value=\"<iframe src='http://localhost:56229/index.html?ui=P_0x2958be65040_37&reconnect=auto' style='widt…"
      ]
     },
     "metadata": {},
     "output_type": "display_data"
    }
   ],
   "source": [
    "nn_threshold = 50\n",
    "html_file_nn_s4_colored = f\"htmls_dump/gr_singstrecke_s4_14_files_nn_{nn_threshold}_colored.html\"\n",
    "nn_mask_s4 = get_nn_mask(df_s4, nn_threshold)\n",
    "cloud_s4_nn_colored = get_cloud(df_s4.iloc[1:-1])\n",
    "cloud_s4_nn_colored[\"color_mask\"] = nn_mask_s4\n",
    "pl_s4_nn_colored = get_plotter(f\"S4, NN {nn_threshold} Masked, yellow is valid, red is invalid\")\n",
    "pl_s4_nn_colored.add_points(\n",
    "    cloud_s4_nn_colored,\n",
    "    cmap=CMAP_2,\n",
    "    scalars=\"color_mask\"\n",
    ")\n",
    "pl_s4_nn_colored.export_html(html_file_nn_s4_colored)\n",
    "pl_s4_nn_colored.show()\n"
   ]
  },
  {
   "cell_type": "code",
   "execution_count": 21,
   "metadata": {},
   "outputs": [
    {
     "data": {
      "application/vnd.jupyter.widget-view+json": {
       "model_id": "878cd1cfef1a4dc48d0f1883c44b44d7",
       "version_major": 2,
       "version_minor": 0
      },
      "text/plain": [
       "Widget(value=\"<iframe src='http://localhost:56229/index.html?ui=P_0x2958bd66280_38&reconnect=auto' style='widt…"
      ]
     },
     "metadata": {},
     "output_type": "display_data"
    }
   ],
   "source": [
    "html_file_nn_s4 = f\"htmls_dump/gr_singstrecke_s4_14_files_nn_{nn_threshold}.html\"\n",
    "df_nn = df_s4.iloc[1:-1].loc[nn_mask_s4]\n",
    "cloud_s4_nn = get_cloud(df_nn)\n",
    "pl_s4_nn = get_plotter(f\"S4, NN {nn_threshold} Masked\")\n",
    "pl_s4_nn.add_points(\n",
    "    cloud_s4_nn,\n",
    "    color=\"blue\"\n",
    ")\n",
    "pl_s4_nn.export_html(html_file_nn_s4)\n",
    "pl_s4_nn.show()"
   ]
  },
  {
   "cell_type": "code",
   "execution_count": 14,
   "metadata": {},
   "outputs": [
    {
     "data": {
      "application/vnd.jupyter.widget-view+json": {
       "model_id": "3ca183f4d3d549888a2c6ada29ffb4db",
       "version_major": 2,
       "version_minor": 0
      },
      "text/plain": [
       "Widget(value=\"<iframe src='http://localhost:56229/index.html?ui=P_0x2958bfe26d0_19&reconnect=auto' style='widt…"
      ]
     },
     "metadata": {},
     "output_type": "display_data"
    }
   ],
   "source": [
    "html_file_run2 = \"htmls_dump/run2_master_blo.html\"\n",
    "folder_run2 = join(DATA_FOLDER, \"run2/\")\n",
    "df_run2 = get_df(listdir(folder_run2), folder_run2)\n",
    "cloud_run2 = get_cloud(df_run2)\n",
    "pl_run2 = get_plotter(\"Run 2, Dachsburgring, Master in BLO\")\n",
    "pl_run2.export_html(html_file_run2)\n",
    "pl_run2.show()"
   ]
  },
  {
   "cell_type": "code",
   "execution_count": 15,
   "metadata": {},
   "outputs": [
    {
     "data": {
      "application/vnd.jupyter.widget-view+json": {
       "model_id": "d69f8f8386bd40b082468e260aa457cd",
       "version_major": 2,
       "version_minor": 0
      },
      "text/plain": [
       "Widget(value=\"<iframe src='http://localhost:56229/index.html?ui=P_0x2958beee7c0_20&reconnect=auto' style='widt…"
      ]
     },
     "metadata": {},
     "output_type": "display_data"
    }
   ],
   "source": [
    "html_file_run8 = \"htmls_dump/run8_master_ger.html\"\n",
    "\n",
    "folder_run8 = join(DATA_FOLDER, \"run8/\")\n",
    "df_run8 = get_df(listdir(folder_run8), folder_run8)\n",
    "cloud_run8 = get_cloud(df_run8)\n",
    "pl_run8 = get_plotter(\"Run 8, Dachsburgring, Master in BLO\")\n",
    "pl_run8.add_points(\n",
    "    cloud_run8,\n",
    "    color=\"blue\"\n",
    ")\n",
    "pl_run8.export_html(html_file_run8)\n",
    "pl_run8.show()"
   ]
  },
  {
   "cell_type": "code",
   "execution_count": 16,
   "metadata": {},
   "outputs": [],
   "source": [
    "df_recv, recv_flg = mark_valid_signal(\n",
    "    get_df(FILES_S4, join(DATA_FOLDER, \"gr_ringstrecke_s4/\")),\n",
    "    min_distance=3000,\n",
    "    max_distance=12000\n",
    ")\n",
    "cloud_recv = get_cloud(df_recv)\n",
    "for i in range(recv_flg.shape[1]):\n",
    "    cloud_recv[\"color_mask\"] = recv_flg[:, i]\n",
    "    pl = get_plotter(f\"Receiver Nr. {i}\")\n",
    "    pl.add_points(\n",
    "        cloud_recv,\n",
    "        cmap=CMAP_2,\n",
    "        scalars=\"color_mask\"\n",
    "    )\n",
    "    pl.export_html(f\"htmls_dump/recv_colored/gr_ringstrecke_s4_recv_{i}.html\")\n",
    "cloud_recv[\"color_mask\"] = df_recv[\"got_signal_flg\"]\n",
    "pl_recv = get_plotter(f\"Receiver Nr. {i}\")\n",
    "pl_recv.add_points(\n",
    "    cloud_recv,\n",
    "    cmap=CMAP_2,\n",
    "    scalars=\"color_mask\"\n",
    ")\n",
    "pl_recv.export_html(f\"htmls_dump/gr_ringstrecke_s4_satelliten_abdeckung.html\")"
   ]
  },
  {
   "cell_type": "code",
   "execution_count": 24,
   "metadata": {},
   "outputs": [
    {
     "name": "stderr",
     "output_type": "stream",
     "text": [
      "c:\\Users\\Habbasch\\envs\\ip6\\lib\\site-packages\\pyvista\\core\\utilities\\points.py:52: UserWarning: Points is not a float type. This can cause issues when transforming or applying filters. Casting to ``np.float32``. Disable this by passing ``force_float=False``.\n",
      "  warnings.warn(\n"
     ]
    },
    {
     "data": {
      "application/vnd.jupyter.widget-view+json": {
       "model_id": "27b5b6c9ca9f46d8a96b7e0cc2cf29af",
       "version_major": 2,
       "version_minor": 0
      },
      "text/plain": [
       "Widget(value=\"<iframe src='http://localhost:56229/index.html?ui=P_0x2958bcc1190_41&reconnect=auto' style='widt…"
      ]
     },
     "metadata": {},
     "output_type": "display_data"
    }
   ],
   "source": [
    "kernel_size = 29\n",
    "html_file_med_s4 = f\"htmls_dump/med_filter_k{kernel_size}.html\"\n",
    "coords = np.c_[df_nn.x, df_nn.y, df_nn.z]\n",
    "\n",
    "cloud_med_s4 = pv.PolyData(median_filter(coords, kernel_size=kernel_size))\n",
    "pl_s4 = get_plotter(f\"Medianfilter Kernelgrösse: {kernel_size}\")\n",
    "pl_s4.add_points(\n",
    "    cloud_med_s4,\n",
    "    color=\"blue\",\n",
    "    render_points_as_spheres=True\n",
    ")\n",
    "pl_s4.export_html(html_file_med_s4)\n",
    "pl_s4.show()"
   ]
  }
 ],
 "metadata": {
  "kernelspec": {
   "display_name": "ip6",
   "language": "python",
   "name": "python3"
  },
  "language_info": {
   "codemirror_mode": {
    "name": "ipython",
    "version": 3
   },
   "file_extension": ".py",
   "mimetype": "text/x-python",
   "name": "python",
   "nbconvert_exporter": "python",
   "pygments_lexer": "ipython3",
   "version": "3.9.13"
  }
 },
 "nbformat": 4,
 "nbformat_minor": 2
}
